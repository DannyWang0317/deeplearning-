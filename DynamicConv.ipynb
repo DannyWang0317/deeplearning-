import os
from PIL import Image
import torch
from torch.utils.data import Dataset, DataLoader
from torchvision import transforms
import torch.nn as nn
import torch.nn.functional as F
import torch.optim as optim
from tqdm import tqdm

class CustomDataset(Dataset):
    def __init__(self, txt_file, root_dir, transform=None, channels='RGB'):
        self.root_dir = root_dir
        self.transform = transform
        self.channels = channels
        self.data = []
        with open(txt_file, 'r') as file:
            for line in file:
                path, label = line.strip().split()
                self.data.append((path, int(label)))
        
        self.num_classes = max(label for _, label in self.data) + 1

    def __len__(self):
        return len(self.data)

    def __getitem__(self, idx):
        img_path, label = self.data[idx]
        img = Image.open(os.path.join(self.root_dir, img_path)).convert('RGB')
        
        # 保留指定的通道
        if self.channels != 'RGB':
            img = img.split()
            channel_indices = {'R': 0, 'G': 1, 'B': 2}
            img = [img[channel_indices[ch]] for ch in self.channels]
            img = Image.merge('RGB', img + [Image.new('L', img[0].size)] * (3 - len(img)))

        if self.transform:
            img = self.transform(img)

        
        # 移除空白通道
        if len(self.channels) < 3:
            img = img[:len(self.channels)]
        
        return img, label

class SimpleConv(nn.Module):
    def __init__(self, in_channels, out_channels, kernel_size, stride=1, padding=0, num_classes=50):
        super(SimpleConv, self).__init__()
        self.conv = nn.Conv2d(in_channels, out_channels, kernel_size, stride, padding)
        self.fc = nn.Linear(out_channels * 32 * 32, num_classes)

    def forward(self, x):
        x = self.conv(x)
        x = F.relu(x)
        x = x.view(x.size(0), -1)  # 展平
        
        x = self.fc(x)
        return x


# 定義轉換
transform = transforms.Compose([
    transforms.Resize((32,32)),
    transforms.ToTensor()
])

# 構建數據加載器
train_dataset = CustomDataset(txt_file='C:/Users/NCKU-BAISP/Desktop/dl/homework4/train.txt', root_dir='C:/Users/NCKU-BAISP/Desktop/dl/homework4', transform=transform)
train_loader = DataLoader(train_dataset, batch_size=64, shuffle=True)

val_dataset = CustomDataset(txt_file='C:/Users/NCKU-BAISP/Desktop/dl/homework4/val.txt', root_dir='C:/Users/NCKU-BAISP/Desktop/dl/homework4', transform=transform)
val_loader = DataLoader(val_dataset, batch_size=64, shuffle=False)

test_dataset = CustomDataset(txt_file='C:/Users/NCKU-BAISP/Desktop/dl/homework4/test.txt', root_dir='C:/Users/NCKU-BAISP/Desktop/dl/homework4', transform=transform)
test_loader = DataLoader(test_dataset, batch_size=64, shuffle=False)

# 檢查加載的數據
for images, labels in train_loader:
    print(images.size(), labels.size())
    break


class DynamicConv(nn.Module):
    def __init__(self, in_channels, out_channels, kernel_size, stride=1, padding=0, num_classes=50):
        super(DynamicConv, self).__init__()
        self.in_channels = in_channels
        self.out_channels = out_channels
        
        self.kernel_size = kernel_size
        self.stride = stride
        self.padding = padding

        # 增加的權重生成網絡
        self.weight_generator = nn.Sequential(
            nn.Linear(1, 256),
            nn.ReLU(),
            nn.Linear(256, 512),
            nn.ReLU(),
            nn.Linear(512, 1024),
            nn.ReLU(),
            nn.Linear(1024, out_channels * in_channels * kernel_size * kernel_size)
        )

        # 增加的全連接層進行分類
        self.fc = nn.Sequential(
            nn.Linear(out_channels * 128 * 128, 1024),
            nn.ReLU(),
            nn.Linear(1024, 512),
            nn.ReLU(),
            nn.Linear(512, num_classes)
        )

    def forward(self, x):
        batch_size, channels, height, width = x.size()
        
        # 構建一個通道數量的張量作為權重生成網絡的輸入
        channel_tensor = torch.tensor([[channels]], dtype=torch.float32).to(x.device)
        
        weights = self.weight_generator(channel_tensor)
        weights = weights.view(self.out_channels, self.in_channels, self.kernel_size, self.kernel_size)

        out = F.conv2d(x, weights, stride=self.stride, padding=self.padding)
        out = out.view(batch_size, -1)  # 展平
        out = self.fc(out)
        return out

# 訓練函數
def train(model, device, train_loader, optimizer, epoch):
    model.train()
    pbar = tqdm(train_loader, desc=f"Epoch {epoch}", unit="batch")
    for batch_idx, (data, target) in enumerate(pbar):
        data, target = data.to(device), target.to(device)
        optimizer.zero_grad()
        output = model(data)
        loss = F.cross_entropy(output, target)
        loss.backward()
        optimizer.step()
        pbar.set_postfix({"loss": loss.item()})

# 驗證函數
def validate(model, device, val_loader):
    model.eval()
    val_loss = 0
    correct = 0
    with torch.no_grad():
        for data, target in tqdm(val_loader, desc="Validation", unit="batch"):
            data, target = data.to(device), target.to(device)
            output = model(data)
            val_loss += F.cross_entropy(output, target, reduction='sum').item()
            pred = output.argmax(dim=1, keepdim=True)
            correct += pred.eq(target.view_as(pred)).sum().item()

    val_loss /= len(val_loader.dataset)
    accuracy = 100. * correct / len(val_loader.dataset)
    print(f'Validation set: Average loss: {val_loss:.4f}, Accuracy: {correct}/{len(val_loader.dataset)} ({accuracy:.0f}%)')
    return val_loss, accuracy

# 測試函數
def test(model, device, test_loader):
    model.eval()
    test_loss = 0
    correct = 0
    with torch.no_grad():
        for data, target in tqdm(test_loader, desc="Testing", unit="batch"):
            data, target = data.to(device), target.to(device)
            output = model(data)
            test_loss += F.cross_entropy(output, target, reduction='sum').item()
            pred = output.argmax(dim=1, keepdim=True)
            correct += pred.eq(target.view_as(pred)).sum().item()

    test_loss /= len(test_loader.dataset)
    accuracy = 100. * correct / len(test_loader.dataset)
    print(f'Test set: Average loss: {test_loss:.4f}, Accuracy: {correct}/{len(test_loader.dataset)} ({accuracy:.0f}%)')
    return test_loss, accuracy

# 設定裝置和模型
device = torch.device('cuda' if torch.cuda.is_available() else 'cpu')
dynamic_model = DynamicConv(in_channels=3, out_channels=64, kernel_size=3, stride=1, padding=1, num_classes=50).to(device)
simple_model = SimpleConv(in_channels=3, out_channels=64, kernel_size=3, stride=1, padding=1, num_classes=50).to(device)
dynamic_optimizer = optim.Adam(dynamic_model.parameters(), lr=0.001)
simple_optimizer = optim.Adam(simple_model.parameters(), lr=0.001)

# 訓練和驗證
for epoch in range(1, 11):
    print(f"Epoch {epoch} - Dynamic Model")
    train(dynamic_model, device, train_loader, dynamic_optimizer, epoch)
    validate(dynamic_model, device, val_loader)
    
    print(f"Epoch {epoch} - Simple Model")
    train(simple_model, device, train_loader, simple_optimizer, epoch)
    validate(simple_model, device, val_loader)

# 使用測試集進行測驗
print("Testing Dynamic Model")
test(dynamic_model, device, test_loader)

print("Testing Simple Model")
test(simple_model, device, test_loader)
